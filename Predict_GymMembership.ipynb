{
 "cells": [
  {
   "cell_type": "code",
   "execution_count": 38,
   "id": "d64f9d89-863b-409d-ae04-fc68021cf6f1",
   "metadata": {},
   "outputs": [],
   "source": [
    "import pandas as pd\n",
    "import numpy as np\n",
    "from sklearn.model_selection import train_test_split\n",
    "from sklearn.preprocessing import LabelEncoder\n",
    "from sklearn.linear_model import LogisticRegression\n",
    "from sklearn.metrics import accuracy_score, confusion_matrix\n",
    "import matplotlib.pyplot as plt\n",
    "import seaborn as sns"
   ]
  },
  {
   "cell_type": "code",
   "execution_count": 39,
   "id": "8b44c1af-f1d3-4f20-b5cb-4f08b5dd492f",
   "metadata": {},
   "outputs": [
    {
     "data": {
      "text/html": [
       "<div>\n",
       "<style scoped>\n",
       "    .dataframe tbody tr th:only-of-type {\n",
       "        vertical-align: middle;\n",
       "    }\n",
       "\n",
       "    .dataframe tbody tr th {\n",
       "        vertical-align: top;\n",
       "    }\n",
       "\n",
       "    .dataframe thead th {\n",
       "        text-align: right;\n",
       "    }\n",
       "</style>\n",
       "<table border=\"1\" class=\"dataframe\">\n",
       "  <thead>\n",
       "    <tr style=\"text-align: right;\">\n",
       "      <th></th>\n",
       "      <th>gender</th>\n",
       "      <th>age</th>\n",
       "      <th>membership_level</th>\n",
       "      <th>visits_per_week</th>\n",
       "      <th>attend_group_lesson</th>\n",
       "      <th>avg_session_time_min</th>\n",
       "      <th>uses_cafe</th>\n",
       "      <th>uses_personal_training</th>\n",
       "      <th>uses_sauna</th>\n",
       "    </tr>\n",
       "  </thead>\n",
       "  <tbody>\n",
       "    <tr>\n",
       "      <th>0</th>\n",
       "      <td>Female</td>\n",
       "      <td>27</td>\n",
       "      <td>Premium</td>\n",
       "      <td>4</td>\n",
       "      <td>True</td>\n",
       "      <td>116</td>\n",
       "      <td>False</td>\n",
       "      <td>False</td>\n",
       "      <td>True</td>\n",
       "    </tr>\n",
       "    <tr>\n",
       "      <th>1</th>\n",
       "      <td>Female</td>\n",
       "      <td>47</td>\n",
       "      <td>Standard</td>\n",
       "      <td>3</td>\n",
       "      <td>False</td>\n",
       "      <td>48</td>\n",
       "      <td>False</td>\n",
       "      <td>True</td>\n",
       "      <td>False</td>\n",
       "    </tr>\n",
       "    <tr>\n",
       "      <th>2</th>\n",
       "      <td>Male</td>\n",
       "      <td>41</td>\n",
       "      <td>Premium</td>\n",
       "      <td>1</td>\n",
       "      <td>True</td>\n",
       "      <td>123</td>\n",
       "      <td>True</td>\n",
       "      <td>True</td>\n",
       "      <td>False</td>\n",
       "    </tr>\n",
       "    <tr>\n",
       "      <th>3</th>\n",
       "      <td>Male</td>\n",
       "      <td>44</td>\n",
       "      <td>Premium</td>\n",
       "      <td>3</td>\n",
       "      <td>False</td>\n",
       "      <td>99</td>\n",
       "      <td>True</td>\n",
       "      <td>True</td>\n",
       "      <td>True</td>\n",
       "    </tr>\n",
       "    <tr>\n",
       "      <th>4</th>\n",
       "      <td>Male</td>\n",
       "      <td>44</td>\n",
       "      <td>Standard</td>\n",
       "      <td>2</td>\n",
       "      <td>True</td>\n",
       "      <td>50</td>\n",
       "      <td>False</td>\n",
       "      <td>True</td>\n",
       "      <td>False</td>\n",
       "    </tr>\n",
       "  </tbody>\n",
       "</table>\n",
       "</div>"
      ],
      "text/plain": [
       "   gender  age membership_level  visits_per_week  attend_group_lesson  \\\n",
       "0  Female   27          Premium                4                 True   \n",
       "1  Female   47         Standard                3                False   \n",
       "2    Male   41          Premium                1                 True   \n",
       "3    Male   44          Premium                3                False   \n",
       "4    Male   44         Standard                2                 True   \n",
       "\n",
       "   avg_session_time_min  uses_cafe  uses_personal_training  uses_sauna  \n",
       "0                   116      False                   False        True  \n",
       "1                    48      False                    True       False  \n",
       "2                   123       True                    True       False  \n",
       "3                    99       True                    True        True  \n",
       "4                    50      False                    True       False  "
      ]
     },
     "execution_count": 39,
     "metadata": {},
     "output_type": "execute_result"
    }
   ],
   "source": [
    "# Load dataset\n",
    "df = pd.read_csv('gym_membership.csv') \n",
    "\n",
    "# Remove low-priority columns\n",
    "df.drop(columns=['id','birthday','fav_group_lesson','fav_drink','name_personal_trainer',\n",
    "                 'avg_time_check_in','avg_time_check_out', 'days_per_week'], inplace=True) \n",
    "\n",
    "# Rename columns for data clarity and consistency\n",
    "df.rename(columns={'abonoment_type':'membership_level','drink_abo':'uses_cafe','Age':'age',\n",
    "                   'visit_per_week':'visits_per_week','personal_training':'uses_personal_training',\n",
    "                   'avg_time_in_gym':'avg_session_time_min'}, inplace=True)  \n",
    "\n",
    "# Show updated dataset\n",
    "df.head()"
   ]
  },
  {
   "cell_type": "code",
   "execution_count": 40,
   "id": "8e28163a-b8e0-44ca-9993-86328f8c3414",
   "metadata": {},
   "outputs": [
    {
     "data": {
      "text/html": [
       "<div>\n",
       "<style scoped>\n",
       "    .dataframe tbody tr th:only-of-type {\n",
       "        vertical-align: middle;\n",
       "    }\n",
       "\n",
       "    .dataframe tbody tr th {\n",
       "        vertical-align: top;\n",
       "    }\n",
       "\n",
       "    .dataframe thead th {\n",
       "        text-align: right;\n",
       "    }\n",
       "</style>\n",
       "<table border=\"1\" class=\"dataframe\">\n",
       "  <thead>\n",
       "    <tr style=\"text-align: right;\">\n",
       "      <th></th>\n",
       "      <th>gender</th>\n",
       "      <th>age</th>\n",
       "      <th>membership_level</th>\n",
       "      <th>visits_per_week</th>\n",
       "      <th>attend_group_lesson</th>\n",
       "      <th>avg_session_time_min</th>\n",
       "      <th>uses_cafe</th>\n",
       "      <th>uses_personal_training</th>\n",
       "      <th>uses_sauna</th>\n",
       "    </tr>\n",
       "  </thead>\n",
       "  <tbody>\n",
       "    <tr>\n",
       "      <th>0</th>\n",
       "      <td>0</td>\n",
       "      <td>27</td>\n",
       "      <td>0</td>\n",
       "      <td>4</td>\n",
       "      <td>1</td>\n",
       "      <td>116</td>\n",
       "      <td>0</td>\n",
       "      <td>0</td>\n",
       "      <td>1</td>\n",
       "    </tr>\n",
       "    <tr>\n",
       "      <th>1</th>\n",
       "      <td>0</td>\n",
       "      <td>47</td>\n",
       "      <td>1</td>\n",
       "      <td>3</td>\n",
       "      <td>0</td>\n",
       "      <td>48</td>\n",
       "      <td>0</td>\n",
       "      <td>1</td>\n",
       "      <td>0</td>\n",
       "    </tr>\n",
       "    <tr>\n",
       "      <th>2</th>\n",
       "      <td>1</td>\n",
       "      <td>41</td>\n",
       "      <td>0</td>\n",
       "      <td>1</td>\n",
       "      <td>1</td>\n",
       "      <td>123</td>\n",
       "      <td>1</td>\n",
       "      <td>1</td>\n",
       "      <td>0</td>\n",
       "    </tr>\n",
       "    <tr>\n",
       "      <th>3</th>\n",
       "      <td>1</td>\n",
       "      <td>44</td>\n",
       "      <td>0</td>\n",
       "      <td>3</td>\n",
       "      <td>0</td>\n",
       "      <td>99</td>\n",
       "      <td>1</td>\n",
       "      <td>1</td>\n",
       "      <td>1</td>\n",
       "    </tr>\n",
       "    <tr>\n",
       "      <th>4</th>\n",
       "      <td>1</td>\n",
       "      <td>44</td>\n",
       "      <td>1</td>\n",
       "      <td>2</td>\n",
       "      <td>1</td>\n",
       "      <td>50</td>\n",
       "      <td>0</td>\n",
       "      <td>1</td>\n",
       "      <td>0</td>\n",
       "    </tr>\n",
       "  </tbody>\n",
       "</table>\n",
       "</div>"
      ],
      "text/plain": [
       "   gender  age  membership_level  visits_per_week  attend_group_lesson  \\\n",
       "0       0   27                 0                4                    1   \n",
       "1       0   47                 1                3                    0   \n",
       "2       1   41                 0                1                    1   \n",
       "3       1   44                 0                3                    0   \n",
       "4       1   44                 1                2                    1   \n",
       "\n",
       "   avg_session_time_min  uses_cafe  uses_personal_training  uses_sauna  \n",
       "0                   116          0                       0           1  \n",
       "1                    48          0                       1           0  \n",
       "2                   123          1                       1           0  \n",
       "3                    99          1                       1           1  \n",
       "4                    50          0                       1           0  "
      ]
     },
     "execution_count": 40,
     "metadata": {},
     "output_type": "execute_result"
    }
   ],
   "source": [
    "# Make the dataset numerical\n",
    "\n",
    "# Use LabelEncoder() to convert column types to int64\n",
    "label = LabelEncoder() \n",
    "\n",
    "# Use label.fit_transform on all columns not already converted to int64\n",
    "df['gender']=label.fit_transform(df['gender'])\n",
    "df['membership_level']=label.fit_transform(df['membership_level'])\n",
    "df['attend_group_lesson']=label.fit_transform(df['attend_group_lesson'])\n",
    "df['uses_cafe']=label.fit_transform(df['uses_cafe'])\n",
    "df['uses_personal_training']=label.fit_transform(df['uses_personal_training'])\n",
    "df['uses_sauna']=label.fit_transform(df['uses_sauna'])\n",
    "\n",
    "# Show updated dataset\n",
    "df.head() "
   ]
  },
  {
   "cell_type": "code",
   "execution_count": 41,
   "id": "d7c92414-c553-430e-bba4-d2a2cda0ba8e",
   "metadata": {},
   "outputs": [
    {
     "data": {
      "text/plain": [
       "gender                    int64\n",
       "age                       int64\n",
       "membership_level          int64\n",
       "visits_per_week           int64\n",
       "attend_group_lesson       int64\n",
       "avg_session_time_min      int64\n",
       "uses_cafe                 int64\n",
       "uses_personal_training    int64\n",
       "uses_sauna                int64\n",
       "dtype: object"
      ]
     },
     "execution_count": 41,
     "metadata": {},
     "output_type": "execute_result"
    }
   ],
   "source": [
    "# Print data type of each column to ensure all columns are numerical and ready for analysis\n",
    "df.dtypes"
   ]
  },
  {
   "cell_type": "code",
   "execution_count": null,
   "id": "223b883a-f940-4fcc-ad55-b891aeff6290",
   "metadata": {},
   "outputs": [],
   "source": [
    "# Create an inputs list of all column names for correlation matrix\n",
    "inputs = ['gender','age','membership_level','visits_per_week','attend_group_lesson','avg_session_time_min',\n",
    "          'uses_cafe','uses_personal_training','uses_sauna']\n",
    "\n",
    "# Calculate the correlation matrix for the input features\n",
    "correlation = df[inputs].corr()\n",
    "\n",
    "# Create and display heatmap of the correlation matrix\n",
    "plt.figure(figsize=(10,8))\n",
    "sns.heatmap(correlation, annot=True, cmap='coolwarm',fmt=' .2f',linewidth=0.5)\n",
    "plt.show()"
   ]
  },
  {
   "cell_type": "code",
   "execution_count": 29,
   "id": "5a21aafc-7c31-4604-a9a8-e07ea4dc06d3",
   "metadata": {},
   "outputs": [],
   "source": [
    "# Select features from df for prediction model\n",
    "X = df[['gender','age','visits_per_week','attend_group_lesson','avg_session_time_min','uses_cafe',\n",
    "        'uses_personal_training','uses_sauna']]\n",
    "\n",
    "# Select the target variable \n",
    "Y = df['membership_level']\n",
    "\n",
    "# Split dataset into training and testing\n",
    "X_train, X_test, Y_train, Y_test = train_test_split(X, Y, test_size=0.2, random_state=42)\n"
   ]
  },
  {
   "cell_type": "code",
   "execution_count": 30,
   "id": "25d49def-4c93-4268-a9c0-26807bce2fd5",
   "metadata": {},
   "outputs": [],
   "source": [
    "# Create the Logistic Regression model\n",
    "model = LogisticRegression()\n",
    "\n",
    "# Train the model using the training data\n",
    "model.fit(X_train, Y_train)\n",
    "\n",
    "# Use the model to calculate predictions using the test data\n",
    "y_predict = model.predict(X_test)"
   ]
  },
  {
   "cell_type": "code",
   "execution_count": 31,
   "id": "5eabf300-30c9-4889-937b-d48f25f37bc2",
   "metadata": {},
   "outputs": [
    {
     "name": "stdout",
     "output_type": "stream",
     "text": [
      "Prediction Model Accuracy Score: 0.52\n"
     ]
    }
   ],
   "source": [
    "# Calculate the accuracy score \n",
    "accuracy = accuracy_score(Y_test, y_predict)\n",
    "\n",
    "# Print Accuracy Score\n",
    "print(f'Prediction Model Accuracy Score: {accuracy}')"
   ]
  },
  {
   "cell_type": "code",
   "execution_count": 37,
   "id": "f8e94d5a-0393-47ba-bb11-68c29c60c387",
   "metadata": {},
   "outputs": [
    {
     "name": "stdout",
     "output_type": "stream",
     "text": [
      "PREDICT MEMBERSHIP LEVEL\n"
     ]
    },
    {
     "name": "stdin",
     "output_type": "stream",
     "text": [
      "Enter the member's gender (0 = Male, 1 = Female):  0\n",
      "Enter the member's age:  21\n",
      "Enter how many days the member would visit the gym per week (1-7):  6\n",
      "Enter if the member would take advantage of group lessons (0 = No, 1 = Yes):  0\n",
      "Enter the avg time the member would spend in the gym per day (in minutes):  60\n",
      "Enter if the member would purchase items from the cafe (0 = No, 1 = Yes):  0\n",
      "Enter if the member would register for personal training (0 = No, 1 = Yes):  0\n",
      "Enter if the member would use the gym sauna (0 = No, 1 = Yes):  0\n"
     ]
    },
    {
     "name": "stdout",
     "output_type": "stream",
     "text": [
      "user inputs:\n",
      "gender: 0\n",
      "age: 21\n",
      "visits_per_week: 6\n",
      "attend_group_lesson: 0\n",
      "avg_session_time_min: 360\n",
      "uses_cafe: 0\n",
      "uses_personal_training: 0\n",
      "uses_sauna: 0\n"
     ]
    }
   ],
   "source": [
    "# Gather user inputs for member info to prepare data for prediction model\n",
    "print(\"PREDICT MEMBERSHIP LEVEL\")\n",
    "\n",
    "# Gather the user response for each input\n",
    "gender = int(input(\"Enter the member's gender (0 = Male, 1 = Female): \"))\n",
    "age = int(input(\"Enter the member's age: \"))\n",
    "visits_per_week = int(input(\"Enter how many days the member would visit the gym per week (1-7): \"))\n",
    "attend_group_lesson = int(input(\"Enter if the member would take advantage of group lessons (0 = No, 1 = Yes): \"))\n",
    "avg_session_time_min = int(input(\"Enter the avg time the member would spend in the gym per day (in minutes): \"))\n",
    "uses_cafe = int(input(\"Enter if the member would purchase items from the cafe (0 = No, 1 = Yes): \"))\n",
    "uses_personal_training = int(input(\"Enter if the member would register for personal training (0 = No, 1 = Yes): \"))\n",
    "uses_sauna = int(input(\"Enter if the member would use the gym sauna (0 = No, 1 = Yes): \"))\n",
    "\n",
    "# Multiply the session time by the days per week to calculate the weekly average of time spent in the gym\n",
    "avg_session_time_min = avg_session_time_min * visits_per_week\n",
    "\n",
    "# Print user inputs for GitHub view\n",
    "print(f'''USER INPUTS:\n",
    "gender: {gender}\n",
    "age: {age}\n",
    "visits_per_week: {visits_per_week}\n",
    "attend_group_lesson: {attend_group_lesson}\n",
    "avg_session_time_min: {avg_session_time_min}\n",
    "uses_cafe: {uses_cafe}\n",
    "uses_personal_training: {uses_personal_training}\n",
    "uses_sauna: {uses_sauna}''')\n",
    "\n",
    "# Put inputs into an array so it can be read by the prediction model\n",
    "new_member_info = np.array([[gender,age,visits_per_week,attend_group_lesson,avg_session_time_min,uses_cafe,uses_personal_training,uses_sauna]]) \n",
    "\n",
    "# Use trained model to predict membership level for new member\n",
    "predicted_membership = model.predict(new_member_info)\n",
    "\n",
    "# Catogorize membership level based on binary result (0 or 1) \n",
    "membership_level = 'PREMIUM MEMBERSHIP' if predicted_membership == 1 else 'STANDARD MEMBERSHIP'\n",
    "\n",
    "# Display prediction\n",
    "print(f'Member would likely purchase a {membership_level}')"
   ]
  },
  {
   "cell_type": "code",
   "execution_count": 13,
   "id": "55d48028-9c41-4e68-b9f4-0d4343335241",
   "metadata": {},
   "outputs": [
    {
     "name": "stdout",
     "output_type": "stream",
     "text": [
      "Member would likely purchase a PREMIUM MEMBERSHIP\n"
     ]
    },
    {
     "name": "stderr",
     "output_type": "stream",
     "text": [
      "/home/mcrisler/anaconda3/envs/py3/lib/python3.13/site-packages/sklearn/utils/validation.py:2739: UserWarning: X does not have valid feature names, but LogisticRegression was fitted with feature names\n",
      "  warnings.warn(\n"
     ]
    }
   ],
   "source": [
    "# Create a hypothetical list of inputs for prediction model\n",
    "new_member_info = [[0,21,6,0,60,0,0,0]]\n",
    "\n"
   ]
  },
  {
   "cell_type": "code",
   "execution_count": null,
   "id": "f64f2bad-96fe-4b4a-b61f-07466cd3a83c",
   "metadata": {},
   "outputs": [],
   "source": []
  }
 ],
 "metadata": {
  "kernelspec": {
   "display_name": "Python 3 (ipykernel)",
   "language": "python",
   "name": "python3"
  },
  "language_info": {
   "codemirror_mode": {
    "name": "ipython",
    "version": 3
   },
   "file_extension": ".py",
   "mimetype": "text/x-python",
   "name": "python",
   "nbconvert_exporter": "python",
   "pygments_lexer": "ipython3",
   "version": "3.13.2"
  }
 },
 "nbformat": 4,
 "nbformat_minor": 5
}
